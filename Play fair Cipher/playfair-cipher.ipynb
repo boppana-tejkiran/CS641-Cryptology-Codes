{
 "cells": [
  {
   "cell_type": "markdown",
   "metadata": {},
   "source": [
    "# Implementing PlayFair Cipher"
   ]
  },
  {
   "cell_type": "code",
   "execution_count": 1,
   "metadata": {},
   "outputs": [
    {
     "name": "stdout",
     "output_type": "stream",
     "text": [
      "Enter the cipher text\n",
      "TR XYCB MH AFC MUVY EOHPTCS, AFCSS TE QCSI NTYIMS TNA AFCSC. EMRBH XAA VAFR MIUCQPUH \"LMRL_CCETOT\" FN HM AKUXAHK. OTA WANA OTXT FFU EISCWNAF HME BFU MCVA UGTOTRE. BM HYLF IFU UVTY ANE HBSEI QYOQM OUVSF AM EAFTE PYHYS XNSKE IFUSC\n"
     ]
    }
   ],
   "source": [
    "#reading the cipher text\n",
    "cipher = input(\"Enter the cipher text\\n\")"
   ]
  },
  {
   "cell_type": "markdown",
   "metadata": {},
   "source": [
    "Cipher Text:\n",
    "TR XYCB MH AFC MUVY EOHPTCS, AFCSS TE QCSI NTYIMS TNA AFCSC. \n",
    "EMRBH XAA VAFR MIUCQPUH \"LMRL_CCETOT\" FN HM AKUXAHK. OTA WANA\n",
    "OTXT FFU EISCWNAF HME BFU MCVA UGTOTRE. BM HYLF IFU UVTY ANE \n",
    "HBSEI QYOQM OUVSF AM EAFTE PYHYS XNSKE IFUSC"
   ]
  },
  {
   "cell_type": "code",
   "execution_count": 2,
   "metadata": {},
   "outputs": [],
   "source": [
    "# key for PlayFair Cipher\n",
    "key = 'SECURITY'"
   ]
  },
  {
   "cell_type": "code",
   "execution_count": 3,
   "metadata": {},
   "outputs": [],
   "source": [
    "# PlayFair Matrix\n",
    "Play_fair_mat= [['S','E','C','U','R'],['I','T','Y','A','B'],['D','F','G','H','K'],['L','M','N','O','P'],['Q','V','W','X','Z']]"
   ]
  },
  {
   "cell_type": "code",
   "execution_count": 4,
   "metadata": {},
   "outputs": [
    {
     "data": {
      "text/plain": [
       "[['S', 'E', 'C', 'U', 'R'],\n",
       " ['I', 'T', 'Y', 'A', 'B'],\n",
       " ['D', 'F', 'G', 'H', 'K'],\n",
       " ['L', 'M', 'N', 'O', 'P'],\n",
       " ['Q', 'V', 'W', 'X', 'Z']]"
      ]
     },
     "execution_count": 4,
     "metadata": {},
     "output_type": "execute_result"
    }
   ],
   "source": [
    "Play_fair_mat"
   ]
  },
  {
   "cell_type": "code",
   "execution_count": 5,
   "metadata": {},
   "outputs": [],
   "source": [
    "alphabet = 'ABCDEFGHIJKLMNOPQRSTUVWXYZ'"
   ]
  },
  {
   "cell_type": "code",
   "execution_count": 6,
   "metadata": {},
   "outputs": [],
   "source": [
    "clean_cipher =''"
   ]
  },
  {
   "cell_type": "code",
   "execution_count": 7,
   "metadata": {},
   "outputs": [],
   "source": [
    "# removing the punctuation and spaces from the cipher text. As classical PlayFair cipher works on english aplhabet only \n",
    "for i in cipher:\n",
    "    if i in alphabet:\n",
    "        clean_cipher+=i"
   ]
  },
  {
   "cell_type": "code",
   "execution_count": 8,
   "metadata": {},
   "outputs": [
    {
     "data": {
      "text/plain": [
       "'TRXYCBMHAFCMUVYEOHPTCSAFCSSTEQCSINTYIMSTNAAFCSCEMRBHXAAVAFRMIUCQPUHLMRLCCETOTFNHMAKUXAHKOTAWANAOTXTFFUEISCWNAFHMEBFUMCVAUGTOTREBMHYLFIFUUVTYANEHBSEIQYOQMOUVSFAMEAFTEPYHYSXNSKEIFUSC'"
      ]
     },
     "execution_count": 8,
     "metadata": {},
     "output_type": "execute_result"
    }
   ],
   "source": [
    "clean_cipher"
   ]
  },
  {
   "cell_type": "code",
   "execution_count": 9,
   "metadata": {},
   "outputs": [
    {
     "data": {
      "text/plain": [
       "180"
      ]
     },
     "execution_count": 9,
     "metadata": {},
     "output_type": "execute_result"
    }
   ],
   "source": [
    "len(clean_cipher)"
   ]
  },
  {
   "cell_type": "markdown",
   "metadata": {},
   "source": [
    "# We can break the clean_cipher exactly in two sets of two letters and apply PlayFair Cipher"
   ]
  },
  {
   "cell_type": "markdown",
   "metadata": {},
   "source": [
    "# Function fot locating the letter from plain text in Play_fair_mat matrix"
   ]
  },
  {
   "cell_type": "code",
   "execution_count": 10,
   "metadata": {},
   "outputs": [],
   "source": [
    "def find_location(big_list, letter):\n",
    "    for sub_list in big_list:\n",
    "        if letter in sub_list:\n",
    "            return (big_list.index(sub_list), sub_list.index(letter))"
   ]
  },
  {
   "cell_type": "markdown",
   "metadata": {},
   "source": [
    "# Code for Play fair cipher decryption "
   ]
  },
  {
   "cell_type": "code",
   "execution_count": 11,
   "metadata": {},
   "outputs": [],
   "source": [
    "plain_text=''\n",
    "i=0\n",
    "\n",
    "while i<len(clean_cipher)-1:\n",
    "    firstltr_x,firstltr_y = find_location(Play_fair_mat,clean_cipher[i])\n",
    "    secondltr_x,secondltr_y = find_location(Play_fair_mat,clean_cipher[i+1])\n",
    "    if (firstltr_x == secondltr_x):  # if consecutive letters belong to same row, replace them by their left letters\n",
    "        firstltr_y = (firstltr_y-1)%5\n",
    "        secondltr_y = (secondltr_y-1)%5\n",
    "    elif (firstltr_y == secondltr_y): # if consecutive letter belong to same column, replace by their upper letters\n",
    "        firstltr_x = (firstltr_x-1)%5\n",
    "        secondltr_x = (secondltr_x-1)%5\n",
    "    else: # If letters does not belong to same row or column\n",
    "        temp = firstltr_y\n",
    "        firstltr_y = secondltr_y\n",
    "        secondltr_y = temp\n",
    "    \n",
    "    plain_text+=Play_fair_mat[firstltr_x][firstltr_y]\n",
    "    plain_text+=Play_fair_mat[secondltr_x][secondltr_y]\n",
    "    i+=2"
   ]
  },
  {
   "cell_type": "code",
   "execution_count": 12,
   "metadata": {},
   "outputs": [
    {
     "data": {
      "text/plain": [
       "'BEWARYOFTHENEXTCHAMBERTHEREISVERYLITTLEIOYTHERESPEAKOUTXTHEPASSWORDOPENSESAMETOGOTHROUGHMAYXYOUHAVETHESTRENGTHFORTHENEXTCHAMBERTOFINDTHEEXITYOUFIRSTWILXLNEXEDTOUTTERMAGICWORDSTHERE'"
      ]
     },
     "execution_count": 12,
     "metadata": {},
     "output_type": "execute_result"
    }
   ],
   "source": [
    "# decrypted plain text\n",
    "plain_text"
   ]
  },
  {
   "cell_type": "code",
   "execution_count": 13,
   "metadata": {},
   "outputs": [
    {
     "data": {
      "text/plain": [
       "180"
      ]
     },
     "execution_count": 13,
     "metadata": {},
     "output_type": "execute_result"
    }
   ],
   "source": [
    "len(plain_text)"
   ]
  },
  {
   "cell_type": "code",
   "execution_count": null,
   "metadata": {},
   "outputs": [],
   "source": []
  }
 ],
 "metadata": {
  "kernelspec": {
   "display_name": "Python 3",
   "language": "python",
   "name": "python3"
  },
  "language_info": {
   "codemirror_mode": {
    "name": "ipython",
    "version": 3
   },
   "file_extension": ".py",
   "mimetype": "text/x-python",
   "name": "python",
   "nbconvert_exporter": "python",
   "pygments_lexer": "ipython3",
   "version": "3.8.3"
  }
 },
 "nbformat": 4,
 "nbformat_minor": 4
}
